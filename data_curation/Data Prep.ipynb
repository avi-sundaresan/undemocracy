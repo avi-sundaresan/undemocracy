{
 "cells": [
  {
   "cell_type": "code",
   "execution_count": null,
   "id": "4e4acf6c",
   "metadata": {},
   "outputs": [],
   "source": [
    "from sklearn.preprocessing import StandardScaler\n",
    "from sklearn.preprocessing import MinMaxScaler\n",
    "from sklearn.model_selection import train_test_split\n",
    "from sklearn import metrics\n",
    "from sklearn import linear_model\n",
    "\n",
    "import csv\n",
    "import pandas as pd\n",
    "import math\n",
    "%pylab inline"
   ]
  },
  {
   "cell_type": "markdown",
   "id": "967b1118",
   "metadata": {},
   "source": [
    "### Load in desired data from master CSVs."
   ]
  },
  {
   "cell_type": "code",
   "execution_count": null,
   "id": "cee00211",
   "metadata": {},
   "outputs": [],
   "source": [
    "ELECTION_YEAR = 2018\n",
    "INCUMBENT_YEAR = 2016"
   ]
  },
  {
   "cell_type": "code",
   "execution_count": null,
   "id": "7e68fb48",
   "metadata": {},
   "outputs": [],
   "source": [
    "ddata = pd.read_csv('undemocracy/data/demographics.csv', engine='python')\n",
    "vdata_df = pd.read_csv('undemocracy/data/1976-2020-house.csv', engine='python')"
   ]
  },
  {
   "cell_type": "code",
   "execution_count": null,
   "id": "6d0d15be",
   "metadata": {},
   "outputs": [],
   "source": [
    "# only include desired election and incumbent years\n",
    "vdata_inc = vdata_df[vdata_df['year'] == INCUMBENT_YEAR]\n",
    "vdata = vdata_df[vdata_df['year'] == ELECTION_YEAR]"
   ]
  },
  {
   "cell_type": "code",
   "execution_count": null,
   "id": "c22e7af9",
   "metadata": {},
   "outputs": [],
   "source": [
    "# create congressional district id for vdata\n",
    "vdata_inc['colid'] = vdata_inc['state_po'] + vdata_inc['district'].apply(str)\n",
    "vdata['colid'] = vdata['state_po'] + vdata['district'].apply(str)"
   ]
  },
  {
   "cell_type": "code",
   "execution_count": null,
   "id": "e8b7d8a0",
   "metadata": {},
   "outputs": [],
   "source": [
    "# only include valid party affiliations\n",
    "vdata_inc = vdata_inc[vdata_inc['party'].notna()]\n",
    "vdata = vdata[vdata['party'].notna()]"
   ]
  },
  {
   "cell_type": "code",
   "execution_count": null,
   "id": "a1511363",
   "metadata": {},
   "outputs": [],
   "source": [
    "vdata_inc.reset_index(inplace = True, drop = True)\n",
    "vdata.reset_index(inplace = True, drop = True)"
   ]
  },
  {
   "cell_type": "markdown",
   "id": "29a63f49",
   "metadata": {},
   "source": [
    "### Determine incumbent party in each district from previous election cycle. "
   ]
  },
  {
   "cell_type": "code",
   "execution_count": null,
   "id": "0e218ec2",
   "metadata": {},
   "outputs": [],
   "source": [
    "vdata_inc['percent votes'] = vdata_inc['candidatevotes'] / vdata_inc['totalvotes']\n",
    "vdata['percent votes'] = vdata['candidatevotes'] / vdata['totalvotes']"
   ]
  },
  {
   "cell_type": "code",
   "execution_count": null,
   "id": "56c05aa3",
   "metadata": {},
   "outputs": [],
   "source": [
    "def is_incumbent(row):\n",
    "    colid = row['colid']\n",
    "    p_votes = row['percent votes']\n",
    "    id_filter = vdata_inc[vdata_inc['colid'] == colid]\n",
    "    if p_votes == id_filter['percent votes'].max() or math.isnan(p_votes):\n",
    "        return 1\n",
    "    else:\n",
    "        return 0\n",
    "\n",
    "vdata_inc['winner'] = vdata_inc.apply(is_incumbent, axis = 1)"
   ]
  },
  {
   "cell_type": "code",
   "execution_count": null,
   "id": "eb7be6b8",
   "metadata": {},
   "outputs": [],
   "source": [
    "inc_map_dem = {}\n",
    "inc_map_rep = {}\n",
    "for index, row in vdata_inc.iterrows():\n",
    "    if row['winner'] == 1:\n",
    "        if row['party'] == 'DEMOCRAT':\n",
    "            inc_map_dem[row['colid']] = 1\n",
    "            inc_map_rep[row['colid']] = 0\n",
    "        elif row['party'] == 'REPUBLICAN':\n",
    "            inc_map_dem[row['colid']] = 0\n",
    "            inc_map_rep[row['colid']] = 1"
   ]
  },
  {
   "cell_type": "code",
   "execution_count": null,
   "id": "eae943f0",
   "metadata": {},
   "outputs": [],
   "source": [
    "# add incumbent information to the current election year's dataframe\n",
    "def is_dem(row):\n",
    "    if row['party'] == 'DEMOCRAT':\n",
    "        return 1\n",
    "    else:\n",
    "        return 0\n",
    "\n",
    "def is_rep(row):\n",
    "    if row['party'] == 'REPUBLICAN':\n",
    "        return 1\n",
    "    else:\n",
    "        return 0\n",
    "\n",
    "vdata['party_democrat'] = vdata.apply(is_dem, axis = 1)\n",
    "vdata['party_republican'] = vdata.apply(is_rep, axis = 1)\n",
    "vdata['inc_democrat'] = (vdata['colid'].map(inc_map_dem)).astype('int')\n",
    "vdata['inc_republican'] = (vdata['colid'].map(inc_map_rep)).astype('int')"
   ]
  },
  {
   "cell_type": "code",
   "execution_count": null,
   "id": "ce2c9dac",
   "metadata": {},
   "outputs": [],
   "source": [
    "# dropping NaNs and getting the number of district\n",
    "ddata = ddata.dropna()\n",
    "\n",
    "#getting district number\n",
    "ddata['district'] = ddata['State and District'].str.split(expand = True)[2]\n",
    "\n",
    "#making congressional district id for ddata\n",
    "ddata['colid'] = ddata['CDID'] + ddata['district'].apply(str)"
   ]
  },
  {
   "cell_type": "markdown",
   "id": "9b1dcae8",
   "metadata": {},
   "source": [
    "### Determine winners per district for current year's election cycle. "
   ]
  },
  {
   "cell_type": "code",
   "execution_count": null,
   "id": "1c4d8b85",
   "metadata": {},
   "outputs": [],
   "source": [
    "# largest vote share per district \n",
    "def is_winner(row):\n",
    "    colid = row['colid']\n",
    "    p_votes = row['percent votes']\n",
    "    id_filter = vdata[vdata['colid'] == colid]\n",
    "    if p_votes == id_filter['percent votes'].max():\n",
    "        return 1\n",
    "    else:\n",
    "        return 0\n",
    "vdata['winner'] = vdata.apply(is_winner, axis = 1)"
   ]
  },
  {
   "cell_type": "markdown",
   "id": "9f4a1934",
   "metadata": {},
   "source": [
    "### Build new master CSV with incumbent & demographic information. "
   ]
  },
  {
   "cell_type": "code",
   "execution_count": null,
   "id": "ade70fe8",
   "metadata": {},
   "outputs": [],
   "source": [
    "# merging data\n",
    "new_data = ddata.merge(vdata, on=['colid'])"
   ]
  },
  {
   "cell_type": "code",
   "execution_count": null,
   "id": "f90a6c7b",
   "metadata": {},
   "outputs": [],
   "source": [
    "# standardize numerical data\n",
    "transform_data = ['Median Age', 'White', 'Black', 'AI/AN', 'PI', 'Other', 'Two Plus', 'Emp-LF Ratio', 'High School', 'Bachelor', 'Advanced', '% households w/ seniors', '% poverty']\n",
    "min_max_scaler = MinMaxScaler()\n",
    "new_data[transform_data] = min_max_scaler.fit_transform(new_data[transform_data])"
   ]
  },
  {
   "cell_type": "code",
   "execution_count": null,
   "id": "d742d4f5",
   "metadata": {},
   "outputs": [],
   "source": [
    "new_data.to_csv('undemocracy/data/new_data.csv')"
   ]
  }
 ],
 "metadata": {
  "kernelspec": {
   "display_name": "Python 3 (ipykernel)",
   "language": "python",
   "name": "python3"
  },
  "language_info": {
   "codemirror_mode": {
    "name": "ipython",
    "version": 3
   },
   "file_extension": ".py",
   "mimetype": "text/x-python",
   "name": "python",
   "nbconvert_exporter": "python",
   "pygments_lexer": "ipython3",
   "version": "3.8.9"
  }
 },
 "nbformat": 4,
 "nbformat_minor": 5
}
